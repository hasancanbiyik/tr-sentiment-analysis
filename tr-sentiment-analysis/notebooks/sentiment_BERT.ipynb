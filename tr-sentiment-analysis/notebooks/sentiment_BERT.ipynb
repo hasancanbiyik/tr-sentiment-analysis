{
 "cells": [
  {
   "cell_type": "code",
   "execution_count": 1,
   "id": "ed77bea4-2427-49e1-996c-797dcfc9d491",
   "metadata": {},
   "outputs": [
    {
     "name": "stdout",
     "output_type": "stream",
     "text": [
      "Defaulting to user installation because normal site-packages is not writeable\n",
      "Requirement already satisfied: accelerate in /nfs/storage1/home/biyikh/.local/lib/python3.7/site-packages (0.20.3)\n",
      "Requirement already satisfied: packaging>=20.0 in /usr/local/anaconda3/lib/python3.7/site-packages (from accelerate) (21.3)\n",
      "Requirement already satisfied: pyyaml in /usr/local/anaconda3/lib/python3.7/site-packages (from accelerate) (6.0)\n",
      "Requirement already satisfied: psutil in /usr/local/anaconda3/lib/python3.7/site-packages (from accelerate) (5.9.0)\n",
      "Requirement already satisfied: numpy>=1.17 in /usr/local/anaconda3/lib/python3.7/site-packages (from accelerate) (1.21.5)\n",
      "Requirement already satisfied: torch>=1.6.0 in /nfs/storage1/home/biyikh/.local/lib/python3.7/site-packages (from accelerate) (1.13.1)\n",
      "Requirement already satisfied: pyparsing!=3.0.5,>=2.0.2 in /usr/local/anaconda3/lib/python3.7/site-packages (from packaging>=20.0->accelerate) (3.0.9)\n",
      "Requirement already satisfied: nvidia-cudnn-cu11==8.5.0.96 in /nfs/storage1/home/biyikh/.local/lib/python3.7/site-packages (from torch>=1.6.0->accelerate) (8.5.0.96)\n",
      "Requirement already satisfied: nvidia-cublas-cu11==11.10.3.66 in /nfs/storage1/home/biyikh/.local/lib/python3.7/site-packages (from torch>=1.6.0->accelerate) (11.10.3.66)\n",
      "Requirement already satisfied: typing-extensions in /usr/local/anaconda3/lib/python3.7/site-packages (from torch>=1.6.0->accelerate) (4.3.0)\n",
      "Requirement already satisfied: nvidia-cuda-nvrtc-cu11==11.7.99 in /nfs/storage1/home/biyikh/.local/lib/python3.7/site-packages (from torch>=1.6.0->accelerate) (11.7.99)\n",
      "Requirement already satisfied: nvidia-cuda-runtime-cu11==11.7.99 in /nfs/storage1/home/biyikh/.local/lib/python3.7/site-packages (from torch>=1.6.0->accelerate) (11.7.99)\n",
      "Requirement already satisfied: setuptools in /usr/local/anaconda3/lib/python3.7/site-packages (from nvidia-cublas-cu11==11.10.3.66->torch>=1.6.0->accelerate) (65.5.0)\n",
      "Requirement already satisfied: wheel in /usr/local/anaconda3/lib/python3.7/site-packages (from nvidia-cublas-cu11==11.10.3.66->torch>=1.6.0->accelerate) (0.37.1)\n",
      "Note: you may need to restart the kernel to use updated packages.\n"
     ]
    }
   ],
   "source": [
    "pip install accelerate -U"
   ]
  },
  {
   "cell_type": "code",
   "execution_count": 2,
   "id": "87c39a67-2788-4645-9ac0-994ea29ab396",
   "metadata": {},
   "outputs": [
    {
     "name": "stdout",
     "output_type": "stream",
     "text": [
      "Defaulting to user installation because normal site-packages is not writeable\n",
      "Requirement already satisfied: transformers in /nfs/storage1/home/biyikh/.local/lib/python3.7/site-packages (4.30.2)\n",
      "Requirement already satisfied: dataset in /nfs/storage1/home/biyikh/.local/lib/python3.7/site-packages (1.6.2)\n",
      "Requirement already satisfied: torch in /nfs/storage1/home/biyikh/.local/lib/python3.7/site-packages (1.13.1)\n",
      "Requirement already satisfied: tqdm>=4.27 in /usr/local/anaconda3/lib/python3.7/site-packages (from transformers) (4.64.1)\n",
      "Requirement already satisfied: requests in /usr/local/anaconda3/lib/python3.7/site-packages (from transformers) (2.28.1)\n",
      "Requirement already satisfied: pyyaml>=5.1 in /usr/local/anaconda3/lib/python3.7/site-packages (from transformers) (6.0)\n",
      "Requirement already satisfied: importlib-metadata in /usr/local/anaconda3/lib/python3.7/site-packages (from transformers) (3.10.0)\n",
      "Requirement already satisfied: filelock in /usr/local/anaconda3/lib/python3.7/site-packages (from transformers) (3.6.0)\n",
      "Requirement already satisfied: numpy>=1.17 in /usr/local/anaconda3/lib/python3.7/site-packages (from transformers) (1.21.5)\n",
      "Requirement already satisfied: huggingface-hub<1.0,>=0.14.1 in /nfs/storage1/home/biyikh/.local/lib/python3.7/site-packages (from transformers) (0.16.4)\n",
      "Requirement already satisfied: safetensors>=0.3.1 in /nfs/storage1/home/biyikh/.local/lib/python3.7/site-packages (from transformers) (0.4.2)\n",
      "Requirement already satisfied: regex!=2019.12.17 in /usr/local/anaconda3/lib/python3.7/site-packages (from transformers) (2022.7.9)\n",
      "Requirement already satisfied: packaging>=20.0 in /usr/local/anaconda3/lib/python3.7/site-packages (from transformers) (21.3)\n",
      "Requirement already satisfied: tokenizers!=0.11.3,<0.14,>=0.11.1 in /nfs/storage1/home/biyikh/.local/lib/python3.7/site-packages (from transformers) (0.13.3)\n",
      "Requirement already satisfied: banal>=1.0.1 in /nfs/storage1/home/biyikh/.local/lib/python3.7/site-packages (from dataset) (1.0.6)\n",
      "Requirement already satisfied: alembic>=0.6.2 in /nfs/storage1/home/biyikh/.local/lib/python3.7/site-packages (from dataset) (1.12.1)\n",
      "Requirement already satisfied: sqlalchemy<2.0.0,>=1.3.2 in /usr/local/anaconda3/lib/python3.7/site-packages (from dataset) (1.4.39)\n",
      "Requirement already satisfied: nvidia-cuda-runtime-cu11==11.7.99 in /nfs/storage1/home/biyikh/.local/lib/python3.7/site-packages (from torch) (11.7.99)\n",
      "Requirement already satisfied: nvidia-cuda-nvrtc-cu11==11.7.99 in /nfs/storage1/home/biyikh/.local/lib/python3.7/site-packages (from torch) (11.7.99)\n",
      "Requirement already satisfied: nvidia-cudnn-cu11==8.5.0.96 in /nfs/storage1/home/biyikh/.local/lib/python3.7/site-packages (from torch) (8.5.0.96)\n",
      "Requirement already satisfied: typing-extensions in /usr/local/anaconda3/lib/python3.7/site-packages (from torch) (4.3.0)\n",
      "Requirement already satisfied: nvidia-cublas-cu11==11.10.3.66 in /nfs/storage1/home/biyikh/.local/lib/python3.7/site-packages (from torch) (11.10.3.66)\n",
      "Requirement already satisfied: setuptools in /usr/local/anaconda3/lib/python3.7/site-packages (from nvidia-cublas-cu11==11.10.3.66->torch) (65.5.0)\n",
      "Requirement already satisfied: wheel in /usr/local/anaconda3/lib/python3.7/site-packages (from nvidia-cublas-cu11==11.10.3.66->torch) (0.37.1)\n",
      "Requirement already satisfied: importlib-resources in /usr/local/anaconda3/lib/python3.7/site-packages (from alembic>=0.6.2->dataset) (5.2.0)\n",
      "Requirement already satisfied: Mako in /nfs/storage1/home/biyikh/.local/lib/python3.7/site-packages (from alembic>=0.6.2->dataset) (1.2.4)\n",
      "Requirement already satisfied: fsspec in /usr/local/anaconda3/lib/python3.7/site-packages (from huggingface-hub<1.0,>=0.14.1->transformers) (2022.10.0)\n",
      "Requirement already satisfied: pyparsing!=3.0.5,>=2.0.2 in /usr/local/anaconda3/lib/python3.7/site-packages (from packaging>=20.0->transformers) (3.0.9)\n",
      "Requirement already satisfied: greenlet!=0.4.17 in /usr/local/anaconda3/lib/python3.7/site-packages (from sqlalchemy<2.0.0,>=1.3.2->dataset) (1.1.1)\n",
      "Requirement already satisfied: zipp>=0.5 in /usr/local/anaconda3/lib/python3.7/site-packages (from importlib-metadata->transformers) (3.8.0)\n",
      "Requirement already satisfied: certifi>=2017.4.17 in /usr/local/anaconda3/lib/python3.7/site-packages (from requests->transformers) (2022.9.24)\n",
      "Requirement already satisfied: urllib3<1.27,>=1.21.1 in /usr/local/anaconda3/lib/python3.7/site-packages (from requests->transformers) (1.26.12)\n",
      "Requirement already satisfied: charset-normalizer<3,>=2 in /usr/local/anaconda3/lib/python3.7/site-packages (from requests->transformers) (2.0.4)\n",
      "Requirement already satisfied: idna<4,>=2.5 in /usr/local/anaconda3/lib/python3.7/site-packages (from requests->transformers) (3.4)\n",
      "Requirement already satisfied: MarkupSafe>=0.9.2 in /usr/local/anaconda3/lib/python3.7/site-packages (from Mako->alembic>=0.6.2->dataset) (2.1.1)\n",
      "Note: you may need to restart the kernel to use updated packages.\n"
     ]
    }
   ],
   "source": [
    "pip install transformers dataset torch"
   ]
  },
  {
   "cell_type": "code",
   "execution_count": 3,
   "id": "322e820e-3500-44e6-9f06-f413f1cc5272",
   "metadata": {},
   "outputs": [],
   "source": [
    "import pandas as pd\n",
    "from datasets import Dataset"
   ]
  },
  {
   "cell_type": "code",
   "execution_count": 4,
   "id": "fc433a83-0237-452b-8e9f-ddb0264ebd1e",
   "metadata": {},
   "outputs": [
    {
     "name": "stderr",
     "output_type": "stream",
     "text": [
      "Some weights of the model checkpoint at dbmdz/bert-base-turkish-cased were not used when initializing BertForSequenceClassification: ['cls.predictions.transform.dense.bias', 'cls.predictions.transform.LayerNorm.bias', 'cls.seq_relationship.weight', 'cls.predictions.transform.LayerNorm.weight', 'cls.predictions.bias', 'cls.predictions.decoder.weight', 'cls.predictions.decoder.bias', 'cls.predictions.transform.dense.weight', 'cls.seq_relationship.bias']\n",
      "- This IS expected if you are initializing BertForSequenceClassification from the checkpoint of a model trained on another task or with another architecture (e.g. initializing a BertForSequenceClassification model from a BertForPreTraining model).\n",
      "- This IS NOT expected if you are initializing BertForSequenceClassification from the checkpoint of a model that you expect to be exactly identical (initializing a BertForSequenceClassification model from a BertForSequenceClassification model).\n",
      "Some weights of BertForSequenceClassification were not initialized from the model checkpoint at dbmdz/bert-base-turkish-cased and are newly initialized: ['classifier.bias', 'classifier.weight']\n",
      "You should probably TRAIN this model on a down-stream task to be able to use it for predictions and inference.\n"
     ]
    }
   ],
   "source": [
    "from transformers import BertTokenizer, BertForSequenceClassification\n",
    "from transformers import TrainingArguments, Trainer\n",
    "\n",
    "model_name = \"dbmdz/bert-base-turkish-cased\"\n",
    "tokenizer = BertTokenizer.from_pretrained(model_name)\n",
    "model = BertForSequenceClassification.from_pretrained(model_name, num_labels=2)  # num_labels corresponds to binary classification (negative, positive)"
   ]
  },
  {
   "cell_type": "code",
   "execution_count": 5,
   "id": "8999e7be-6570-47ed-8b1b-93dc0d5b996f",
   "metadata": {},
   "outputs": [],
   "source": [
    "# Load your dataset\n",
    "train_df = pd.read_csv('/nfs/storage1/home/biyikh/turkish_sentiment/train.csv', encoding = 'utf-8')\n",
    "test_df = pd.read_csv('/nfs/storage1/home/biyikh/turkish_sentiment/test.csv', encoding = 'utf-8')"
   ]
  },
  {
   "cell_type": "code",
   "execution_count": 6,
   "id": "9c713811-1830-45ea-a359-64cb7f1a7f77",
   "metadata": {},
   "outputs": [
    {
     "name": "stdout",
     "output_type": "stream",
     "text": [
      "                                                text  label\n",
      "0  her şey çok güzel fakat tek kargoyla ilgili bi...      1\n",
      "1  Her zaman rahatça kullanılabilecek ruj değil ....      0\n",
      "2  oturma odası aydınlatmada kullanıyorum. gayet ...      1\n",
      "3  apartmanımızın zemin katı ve deposu için aldım...      1\n",
      "4   bi arada dipsiz kuyuya atma sahnesi hiç bitme...      0\n"
     ]
    }
   ],
   "source": [
    "print(train_df.head())"
   ]
  },
  {
   "cell_type": "code",
   "execution_count": 7,
   "id": "25bb7c16-dad3-441c-9516-80b0e6ab3b06",
   "metadata": {},
   "outputs": [
    {
     "data": {
      "application/vnd.jupyter.widget-view+json": {
       "model_id": "",
       "version_major": 2,
       "version_minor": 0
      },
      "text/plain": [
       "Map:   0%|          | 0/9049 [00:00<?, ? examples/s]"
      ]
     },
     "metadata": {},
     "output_type": "display_data"
    },
    {
     "data": {
      "application/vnd.jupyter.widget-view+json": {
       "model_id": "",
       "version_major": 2,
       "version_minor": 0
      },
      "text/plain": [
       "Map:   0%|          | 0/2263 [00:00<?, ? examples/s]"
      ]
     },
     "metadata": {},
     "output_type": "display_data"
    }
   ],
   "source": [
    "# Function to tokenize the text\n",
    "def tokenize_function(examples):\n",
    "    return tokenizer(examples['text'], padding=\"max_length\", truncation=True)\n",
    "\n",
    "# Convert DataFrame to Hugging Face dataset format, then tokenize\n",
    "train_dataset = Dataset.from_pandas(train_df)\n",
    "test_dataset = Dataset.from_pandas(test_df)\n",
    "\n",
    "train_dataset = train_dataset.map(tokenize_function, batched=True)\n",
    "test_dataset = test_dataset.map(tokenize_function, batched=True)"
   ]
  },
  {
   "cell_type": "code",
   "execution_count": 8,
   "id": "ab1ac4ad-444a-4e74-a1d5-0a977199616d",
   "metadata": {},
   "outputs": [
    {
     "name": "stderr",
     "output_type": "stream",
     "text": [
      "/home/biyikh/.local/lib/python3.7/site-packages/transformers/optimization.py:415: FutureWarning: This implementation of AdamW is deprecated and will be removed in a future version. Use the PyTorch implementation torch.optim.AdamW instead, or set `no_deprecation_warning=True` to disable this warning\n",
      "  FutureWarning,\n",
      "/home/biyikh/.local/lib/python3.7/site-packages/torch/nn/parallel/_functions.py:68: UserWarning: Was asked to gather along dimension 0, but all input tensors were scalars; will instead unsqueeze and return a vector.\n",
      "  warnings.warn('Was asked to gather along dimension 0, but all '\n"
     ]
    },
    {
     "data": {
      "text/html": [
       "\n",
       "    <div>\n",
       "      \n",
       "      <progress value='849' max='849' style='width:300px; height:20px; vertical-align: middle;'></progress>\n",
       "      [849/849 06:22, Epoch 3/3]\n",
       "    </div>\n",
       "    <table border=\"1\" class=\"dataframe\">\n",
       "  <thead>\n",
       " <tr style=\"text-align: left;\">\n",
       "      <th>Epoch</th>\n",
       "      <th>Training Loss</th>\n",
       "      <th>Validation Loss</th>\n",
       "    </tr>\n",
       "  </thead>\n",
       "  <tbody>\n",
       "    <tr>\n",
       "      <td>1</td>\n",
       "      <td>No log</td>\n",
       "      <td>0.208280</td>\n",
       "    </tr>\n",
       "    <tr>\n",
       "      <td>2</td>\n",
       "      <td>0.245200</td>\n",
       "      <td>0.215082</td>\n",
       "    </tr>\n",
       "    <tr>\n",
       "      <td>3</td>\n",
       "      <td>0.245200</td>\n",
       "      <td>0.243970</td>\n",
       "    </tr>\n",
       "  </tbody>\n",
       "</table><p>"
      ],
      "text/plain": [
       "<IPython.core.display.HTML object>"
      ]
     },
     "metadata": {},
     "output_type": "display_data"
    },
    {
     "name": "stderr",
     "output_type": "stream",
     "text": [
      "/home/biyikh/.local/lib/python3.7/site-packages/torch/nn/parallel/_functions.py:68: UserWarning: Was asked to gather along dimension 0, but all input tensors were scalars; will instead unsqueeze and return a vector.\n",
      "  warnings.warn('Was asked to gather along dimension 0, but all '\n",
      "/home/biyikh/.local/lib/python3.7/site-packages/torch/nn/parallel/_functions.py:68: UserWarning: Was asked to gather along dimension 0, but all input tensors were scalars; will instead unsqueeze and return a vector.\n",
      "  warnings.warn('Was asked to gather along dimension 0, but all '\n"
     ]
    },
    {
     "data": {
      "text/plain": [
       "TrainOutput(global_step=849, training_loss=0.19216812457296958, metrics={'train_runtime': 388.4091, 'train_samples_per_second': 69.893, 'train_steps_per_second': 2.186, 'total_flos': 7142675819857920.0, 'train_loss': 0.19216812457296958, 'epoch': 3.0})"
      ]
     },
     "execution_count": 8,
     "metadata": {},
     "output_type": "execute_result"
    }
   ],
   "source": [
    "training_args = TrainingArguments(\n",
    "    output_dir=\"./results\",          # where to save the model\n",
    "    evaluation_strategy=\"epoch\",     # evaluation is done at the end of each epoch\n",
    "    learning_rate=2e-5,\n",
    "    per_device_train_batch_size=8,\n",
    "    per_device_eval_batch_size=16,\n",
    "    num_train_epochs=3,\n",
    "    weight_decay=0.01,\n",
    "    save_strategy=\"epoch\",\n",
    "    logging_dir='./logs',            # directory for storing logs\n",
    ")\n",
    "\n",
    "trainer = Trainer(\n",
    "    model=model,\n",
    "    args=training_args,\n",
    "    train_dataset=train_dataset,\n",
    "    eval_dataset=test_dataset,\n",
    ")\n",
    "\n",
    "trainer.train()"
   ]
  },
  {
   "cell_type": "code",
   "execution_count": 9,
   "id": "867b85c6-1601-4e75-9c53-7a7d710b7756",
   "metadata": {},
   "outputs": [
    {
     "name": "stderr",
     "output_type": "stream",
     "text": [
      "/home/biyikh/.local/lib/python3.7/site-packages/torch/nn/parallel/_functions.py:68: UserWarning: Was asked to gather along dimension 0, but all input tensors were scalars; will instead unsqueeze and return a vector.\n",
      "  warnings.warn('Was asked to gather along dimension 0, but all '\n"
     ]
    },
    {
     "data": {
      "text/html": [
       "\n",
       "    <div>\n",
       "      \n",
       "      <progress value='36' max='36' style='width:300px; height:20px; vertical-align: middle;'></progress>\n",
       "      [36/36 00:09]\n",
       "    </div>\n",
       "    "
      ],
      "text/plain": [
       "<IPython.core.display.HTML object>"
      ]
     },
     "metadata": {},
     "output_type": "display_data"
    },
    {
     "name": "stdout",
     "output_type": "stream",
     "text": [
      "{'eval_loss': 0.24396954476833344, 'eval_runtime': 9.4122, 'eval_samples_per_second': 240.434, 'eval_steps_per_second': 3.825, 'epoch': 3.0}\n"
     ]
    }
   ],
   "source": [
    "results = trainer.evaluate()\n",
    "print(results)"
   ]
  },
  {
   "cell_type": "code",
   "execution_count": 10,
   "id": "a4f5c5c9-b9b9-419a-9b4f-e80880849377",
   "metadata": {},
   "outputs": [
    {
     "data": {
      "text/plain": [
       "('nfs/storage1/home/biyikh/turkish_sentiment/tokenizer_config.json',\n",
       " 'nfs/storage1/home/biyikh/turkish_sentiment/special_tokens_map.json',\n",
       " 'nfs/storage1/home/biyikh/turkish_sentiment/vocab.txt',\n",
       " 'nfs/storage1/home/biyikh/turkish_sentiment/added_tokens.json')"
      ]
     },
     "execution_count": 10,
     "metadata": {},
     "output_type": "execute_result"
    }
   ],
   "source": [
    "# Time to save the model and the tokenizer!\n",
    "model_path = 'nfs/storage1/home/biyikh/turkish_sentiment'\n",
    "\n",
    "# Saving the model:\n",
    "model.save_pretrained(model_path)\n",
    "\n",
    "# Saving the tokenizer:\n",
    "tokenizer.save_pretrained(model_path)"
   ]
  },
  {
   "cell_type": "code",
   "execution_count": 11,
   "id": "70f78f90-2dfd-40de-bfec-b144da678eff",
   "metadata": {},
   "outputs": [],
   "source": [
    "from transformers import BertTokenizer, BertForSequenceClassification"
   ]
  },
  {
   "cell_type": "code",
   "execution_count": 12,
   "id": "bb058808-6f8e-4f26-8571-d65bddba6a6c",
   "metadata": {},
   "outputs": [],
   "source": [
    "tokenizer = BertTokenizer.from_pretrained(model_path)\n",
    "model = BertForSequenceClassification.from_pretrained(model_path)"
   ]
  },
  {
   "cell_type": "code",
   "execution_count": 13,
   "id": "f030d153-6e6e-4eba-a27f-ad2bc714414d",
   "metadata": {},
   "outputs": [],
   "source": [
    "from transformers import pipeline"
   ]
  },
  {
   "cell_type": "code",
   "execution_count": 14,
   "id": "43a0e99c-99f1-4767-be64-ab0f2e2a38a1",
   "metadata": {},
   "outputs": [
    {
     "name": "stdout",
     "output_type": "stream",
     "text": [
      "Defaulting to user installation because normal site-packages is not writeable\n",
      "Collecting xformers\n",
      "  Using cached xformers-0.0.25.post1.tar.gz (4.1 MB)\n",
      "  Preparing metadata (setup.py) ... \u001b[?25lerror\n",
      "  \u001b[1;31merror\u001b[0m: \u001b[1msubprocess-exited-with-error\u001b[0m\n",
      "  \n",
      "  \u001b[31m×\u001b[0m \u001b[32mpython setup.py egg_info\u001b[0m did not run successfully.\n",
      "  \u001b[31m│\u001b[0m exit code: \u001b[1;36m1\u001b[0m\n",
      "  \u001b[31m╰─>\u001b[0m \u001b[31m[18 lines of output]\u001b[0m\n",
      "  \u001b[31m   \u001b[0m Traceback (most recent call last):\n",
      "  \u001b[31m   \u001b[0m   File \"<string>\", line 36, in <module>\n",
      "  \u001b[31m   \u001b[0m   File \"<pip-setuptools-caller>\", line 34, in <module>\n",
      "  \u001b[31m   \u001b[0m   File \"/tmp/pip-install-3aogat57/xformers_7f96cf42c43e4429ae6403bb00f65f09/setup.py\", line 482, in <module>\n",
      "  \u001b[31m   \u001b[0m     extensions, extensions_metadata = get_extensions()\n",
      "  \u001b[31m   \u001b[0m   File \"/tmp/pip-install-3aogat57/xformers_7f96cf42c43e4429ae6403bb00f65f09/setup.py\", line 328, in get_extensions\n",
      "  \u001b[31m   \u001b[0m     flash_version = get_flash_version()\n",
      "  \u001b[31m   \u001b[0m   File \"/tmp/pip-install-3aogat57/xformers_7f96cf42c43e4429ae6403bb00f65f09/setup.py\", line 72, in get_flash_version\n",
      "  \u001b[31m   \u001b[0m     cwd=flash_dir,\n",
      "  \u001b[31m   \u001b[0m   File \"/usr/local/anaconda3/lib/python3.7/subprocess.py\", line 411, in check_output\n",
      "  \u001b[31m   \u001b[0m     **kwargs).stdout\n",
      "  \u001b[31m   \u001b[0m   File \"/usr/local/anaconda3/lib/python3.7/subprocess.py\", line 488, in run\n",
      "  \u001b[31m   \u001b[0m     with Popen(*popenargs, **kwargs) as process:\n",
      "  \u001b[31m   \u001b[0m   File \"/usr/local/anaconda3/lib/python3.7/subprocess.py\", line 800, in __init__\n",
      "  \u001b[31m   \u001b[0m     restore_signals, start_new_session)\n",
      "  \u001b[31m   \u001b[0m   File \"/usr/local/anaconda3/lib/python3.7/subprocess.py\", line 1551, in _execute_child\n",
      "  \u001b[31m   \u001b[0m     raise child_exception_type(errno_num, err_msg, err_filename)\n",
      "  \u001b[31m   \u001b[0m FileNotFoundError: [Errno 2] No such file or directory: 'git': 'git'\n",
      "  \u001b[31m   \u001b[0m \u001b[31m[end of output]\u001b[0m\n",
      "  \n",
      "  \u001b[1;35mnote\u001b[0m: This error originates from a subprocess, and is likely not a problem with pip.\n",
      "\u001b[1;31merror\u001b[0m: \u001b[1mmetadata-generation-failed\u001b[0m\n",
      "\n",
      "\u001b[31m×\u001b[0m Encountered error while generating package metadata.\n",
      "\u001b[31m╰─>\u001b[0m See above for output.\n",
      "\n",
      "\u001b[1;35mnote\u001b[0m: This is an issue with the package mentioned above, not pip.\n",
      "\u001b[1;36mhint\u001b[0m: See above for details.\n",
      "\u001b[?25hNote: you may need to restart the kernel to use updated packages.\n"
     ]
    }
   ],
   "source": [
    "pip install xformers"
   ]
  },
  {
   "cell_type": "code",
   "execution_count": 15,
   "id": "25aefc06-22fa-4f63-8cd8-3e3d0d3f173f",
   "metadata": {},
   "outputs": [
    {
     "name": "stderr",
     "output_type": "stream",
     "text": [
      "Xformers is not installed correctly. If you want to use memory_efficient_attention to accelerate training use the following command to install Xformers\n",
      "pip install xformers.\n"
     ]
    }
   ],
   "source": [
    "classifier = pipeline(\"text-classification\", model=model, tokenizer=tokenizer)"
   ]
  },
  {
   "cell_type": "code",
   "execution_count": 16,
   "id": "62b29a19-280a-4fcf-ba28-be7ff92ccc36",
   "metadata": {},
   "outputs": [],
   "source": [
    "predictions = classifier(list(test_df['text']), truncation=True)"
   ]
  },
  {
   "cell_type": "code",
   "execution_count": 17,
   "id": "0d2e0b6b-71cf-4704-a855-1e37094c1c0d",
   "metadata": {},
   "outputs": [],
   "source": [
    "predicted_labels = [int(pred['label'].split('_')[-1]) for pred in predictions]\n",
    "true_labels = list(test_df['label'])"
   ]
  },
  {
   "cell_type": "code",
   "execution_count": 18,
   "id": "eb45167e-6dab-4f56-842e-18cbfc057191",
   "metadata": {},
   "outputs": [
    {
     "name": "stdout",
     "output_type": "stream",
     "text": [
      "              precision    recall  f1-score   support\n",
      "\n",
      "           0       0.93      0.92      0.93      1132\n",
      "           1       0.93      0.93      0.93      1131\n",
      "\n",
      "    accuracy                           0.93      2263\n",
      "   macro avg       0.93      0.93      0.93      2263\n",
      "weighted avg       0.93      0.93      0.93      2263\n",
      "\n"
     ]
    },
    {
     "data": {
      "image/png": "[encoded data removed]",
      "text/plain": [
       "<Figure size 640x480 with 2 Axes>"
      ]
     },
     "metadata": {},
     "output_type": "display_data"
    }
   ],
   "source": [
    "from sklearn.metrics import classification_report, confusion_matrix\n",
    "import seaborn as sns\n",
    "import matplotlib.pyplot as plt\n",
    "\n",
    "# Print classification report\n",
    "print(classification_report(true_labels, predicted_labels))\n",
    "\n",
    "# Compute and plot the confusion matrix\n",
    "conf_matrix = confusion_matrix(true_labels, predicted_labels)\n",
    "sns.heatmap(conf_matrix, annot=True, fmt='d', cmap='Blues')\n",
    "plt.title('Confusion Matrix')\n",
    "plt.xlabel('Predicted Labels')\n",
    "plt.ylabel('True Labels')\n",
    "plt.show()"
   ]
  },
  {
   "cell_type": "code",
   "execution_count": 20,
   "id": "c1aaedfc-5a8d-4a4b-9b92-9cb155f25d35",
   "metadata": {},
   "outputs": [],
   "source": [
    "from sklearn.metrics import accuracy_score"
   ]
  },
  {
   "cell_type": "code",
   "execution_count": 21,
   "id": "057f93dc-a999-4ebd-84ad-ff3be97809e5",
   "metadata": {},
   "outputs": [
    {
     "name": "stdout",
     "output_type": "stream",
     "text": [
      "Best Model Test Accuracy: 0.926\n"
     ]
    }
   ],
   "source": [
    "test_accuracy = accuracy_score(true_labels, predicted_labels)\n",
    "print('Best Model Test Accuracy: %.3f' % test_accuracy)"
   ]
  }
 ],
 "metadata": {
  "kernelspec": {
   "display_name": "Python 3 (ipykernel)",
   "language": "python",
   "name": "python3"
  },
  "language_info": {
   "codemirror_mode": {
    "name": "ipython",
    "version": 3
   },
   "file_extension": ".py",
   "mimetype": "text/x-python",
   "name": "python",
   "nbconvert_exporter": "python",
   "pygments_lexer": "ipython3",
   "version": "3.11.5"
  }
 },
 "nbformat": 4,
 "nbformat_minor": 5
}
