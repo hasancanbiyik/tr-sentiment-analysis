{
 "cells": [
  {
   "cell_type": "code",
   "execution_count": 10,
   "metadata": {
    "tags": []
   },
   "outputs": [
    {
     "name": "stderr",
     "output_type": "stream",
     "text": [
      "[nltk_data] Downloading package stopwords to\n",
      "[nltk_data]     /Users/hasancanbiyik/nltk_data...\n",
      "[nltk_data]   Package stopwords is already up-to-date!\n",
      "[nltk_data] Downloading package punkt to\n",
      "[nltk_data]     /Users/hasancanbiyik/nltk_data...\n",
      "[nltk_data]   Package punkt is already up-to-date!\n",
      "[nltk_data] Downloading package wordnet to\n",
      "[nltk_data]     /Users/hasancanbiyik/nltk_data...\n",
      "[nltk_data]   Package wordnet is already up-to-date!\n",
      "[nltk_data] Downloading package omw-1.4 to\n",
      "[nltk_data]     /Users/hasancanbiyik/nltk_data...\n",
      "[nltk_data]   Package omw-1.4 is already up-to-date!\n"
     ]
    },
    {
     "data": {
      "text/plain": [
       "True"
      ]
     },
     "execution_count": 10,
     "metadata": {},
     "output_type": "execute_result"
    }
   ],
   "source": [
    "import pandas as pd\n",
    "import re\n",
    "import nltk\n",
    "import matplotlib.pyplot as plt\n",
    "import seaborn as sns \n",
    "from nltk.corpus import stopwords\n",
    "from sklearn.pipeline import Pipeline\n",
    "from sklearn.feature_extraction.text import TfidfVectorizer\n",
    "from sklearn.svm import SVC\n",
    "from sklearn.metrics import confusion_matrix, classification_report\n",
    "\n",
    "# Downloading necessary datasets from nltk\n",
    "nltk.download('stopwords')\n",
    "nltk.download('punkt')\n",
    "nltk.download('wordnet')\n",
    "nltk.download('omw-1.4')"
   ]
  },
  {
   "cell_type": "code",
   "execution_count": 11,
   "metadata": {
    "colab": {
     "base_uri": "https://localhost:8080/",
     "height": 206
    },
    "id": "GHk3yB6hLqRm",
    "outputId": "f47512c8-db43-436d-db5e-4339cc9e81fa",
    "tags": []
   },
   "outputs": [],
   "source": [
    "df_train = pd.read_csv('/Users/hasancanbiyik/sentiment_analysis_turkish/turkish_sentiment_train.csv', encoding= 'unicode_escape')\n",
    "df_test = pd.read_csv('/Users/hasancanbiyik/sentiment_analysis_turkish/turkish_sentiment_test.csv', encoding= 'unicode_escape')"
   ]
  },
  {
   "cell_type": "code",
   "execution_count": 12,
   "metadata": {
    "id": "clGGAFPVNWKz",
    "tags": []
   },
   "outputs": [],
   "source": [
    "def pre_processing(text):\n",
    "    text = text.lower()  # Convert to lowercase\n",
    "    text = re.sub(\"[^abcçdefgğhıijklmnoöprsştuüvyz]\", \" \", text)\n",
    "    words = nltk.word_tokenize(text)  # Tokenize\n",
    "    words = [word for word in words if word not in stopwords.words(\"turkish\")]\n",
    "    lemma = nltk.WordNetLemmatizer()\n",
    "    return \" \".join([lemma.lemmatize(word) for word in words])  # Lemmatize"
   ]
  },
  {
   "cell_type": "code",
   "execution_count": 13,
   "metadata": {
    "id": "ISUzlAEJOKZl",
    "tags": []
   },
   "outputs": [],
   "source": [
    "df_train[\"clean_text\"] = df_train[\"comment\"].apply(pre_processing)\n",
    "df_test[\"clean_text\"] = df_test[\"comment\"].apply(pre_processing)"
   ]
  },
  {
   "cell_type": "code",
   "execution_count": 14,
   "metadata": {
    "colab": {
     "base_uri": "https://localhost:8080/"
    },
    "id": "GrsL3svoPruE",
    "outputId": "51fe8146-14c6-4c8b-9fe4-bb01a983dcdc",
    "tags": []
   },
   "outputs": [],
   "source": [
    "# Setup for model training\n",
    "X_train = df_train[\"clean_text\"]\n",
    "X_test = df_test[\"clean_text\"]\n",
    "y_train = df_train[\"Label\"]\n",
    "y_test = df_test[\"Label\"]\n",
    "\n",
    "# Model training\n",
    "svm_model = Pipeline([\n",
    "    ('tfidf', TfidfVectorizer()),\n",
    "    ('clf', SVC())\n",
    "])\n",
    "svm_model.fit(X_train, y_train)\n",
    "y_pred_svm = svm_model.predict(X_test)"
   ]
  },
  {
   "cell_type": "code",
   "execution_count": 15,
   "metadata": {
    "colab": {
     "base_uri": "https://localhost:8080/"
    },
    "id": "Gu5cSV2RQF8W",
    "outputId": "b17d6707-50a3-4560-8f2e-7f38569396a9",
    "tags": []
   },
   "outputs": [
    {
     "name": "stdout",
     "output_type": "stream",
     "text": [
      "SVM Test Accuracy : 0.897\n",
      "              precision    recall  f1-score   support\n",
      "\n",
      "           0       0.89      0.91      0.90      1333\n",
      "           1       0.91      0.89      0.90      1333\n",
      "\n",
      "    accuracy                           0.90      2666\n",
      "   macro avg       0.90      0.90      0.90      2666\n",
      "weighted avg       0.90      0.90      0.90      2666\n",
      "\n"
     ]
    },
    {
     "data": {
      "image/png": "[encoded data removed]",
      "text/plain": [
       "<Figure size 600x600 with 2 Axes>"
      ]
     },
     "metadata": {},
     "output_type": "display_data"
    }
   ],
   "source": [
    "# Output results\n",
    "print('SVM Test Accuracy : %.3f' % svm_model.score(X_test, y_test))\n",
    "print(classification_report(y_test, y_pred_svm))\n",
    "\n",
    "# Function to plot confusion matrix\n",
    "def plot_confusion_matrix(Y_test, Y_preds):\n",
    "    conf_mat = confusion_matrix(Y_test, Y_preds)\n",
    "    plt.figure(figsize=(6,6))\n",
    "    sns.heatmap(conf_mat, annot=True, fmt='d', cmap='Blues')\n",
    "    plt.ylabel('Actual')\n",
    "    plt.xlabel('Predicted')\n",
    "    plt.show()\n",
    "\n",
    "plot_confusion_matrix(y_test, y_pred_svm)"
   ]
  },
  {
   "cell_type": "code",
   "execution_count": 17,
   "metadata": {
    "tags": []
   },
   "outputs": [
    {
     "name": "stdout",
     "output_type": "stream",
     "text": [
      "Classification Report:\n",
      "               precision    recall  f1-score   support\n",
      "\n",
      "           0       0.89      0.91      0.90      1333\n",
      "           1       0.91      0.89      0.90      1333\n",
      "\n",
      "    accuracy                           0.90      2666\n",
      "   macro avg       0.90      0.90      0.90      2666\n",
      "weighted avg       0.90      0.90      0.90      2666\n",
      "\n",
      "Train Accuracy : 0.995\n",
      "Test Accuracy : 0.897\n",
      "Precision Score: 0.897\n",
      "Recall Score: 0.897\n",
      "F1 Score: 0.897\n"
     ]
    }
   ],
   "source": [
    "from sklearn.metrics import classification_report, confusion_matrix, precision_score, recall_score, f1_score\n",
    "\n",
    "# Predictions and evaluation using svm_model\n",
    "y_pred = svm_model.predict(X_test)\n",
    "print(\"Classification Report:\\n\", classification_report(y_test, y_pred))\n",
    "print('Train Accuracy : %.3f' % svm_model.score(X_train, y_train))\n",
    "print('Test Accuracy : %.3f' % svm_model.score(X_test, y_test))\n",
    "print(\"Precision Score: %.3f\" % precision_score(y_test, y_pred, average='macro'))\n",
    "print(\"Recall Score: %.3f\" % recall_score(y_test, y_pred, average='macro'))\n",
    "print(\"F1 Score: %.3f\" % f1_score(y_test, y_pred, average='macro'))"
   ]
  },
  {
   "cell_type": "code",
   "execution_count": null,
   "metadata": {},
   "outputs": [],
   "source": []
  }
 ],
 "metadata": {
  "colab": {
   "provenance": []
  },
  "kernelspec": {
   "display_name": "Python 3 (ipykernel)",
   "language": "python",
   "name": "python3"
  },
  "language_info": {
   "codemirror_mode": {
    "name": "ipython",
    "version": 3
   },
   "file_extension": ".py",
   "mimetype": "text/x-python",
   "name": "python",
   "nbconvert_exporter": "python",
   "pygments_lexer": "ipython3",
   "version": "3.11.5"
  }
 },
 "nbformat": 4,
 "nbformat_minor": 4
}
